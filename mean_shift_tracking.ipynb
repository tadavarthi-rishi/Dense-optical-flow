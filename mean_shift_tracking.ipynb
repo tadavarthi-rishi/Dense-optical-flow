{
  "nbformat": 4,
  "nbformat_minor": 0,
  "metadata": {
    "colab": {
      "name": "mean-shift-tracking.ipynb",
      "provenance": [],
      "authorship_tag": "ABX9TyMdmDiA5jfy/uM/nL1qmaMs",
      "include_colab_link": true
    },
    "kernelspec": {
      "name": "python3",
      "display_name": "Python 3"
    }
  },
  "cells": [
    {
      "cell_type": "markdown",
      "metadata": {
        "id": "view-in-github",
        "colab_type": "text"
      },
      "source": [
        "<a href=\"https://colab.research.google.com/github/tadavarthi-rishi/Dense-optical-flow/blob/master/mean_shift_tracking.ipynb\" target=\"_parent\"><img src=\"https://colab.research.google.com/assets/colab-badge.svg\" alt=\"Open In Colab\"/></a>"
      ]
    },
    {
      "cell_type": "code",
      "metadata": {
        "id": "Qrl90gjFenQk",
        "colab_type": "code",
        "colab": {}
      },
      "source": [
        "import cv2\n",
        "import numpy as np\n",
        "cap=cv2.VideoCapture(0)\n",
        "ret,frame=cap.read()\n",
        "face_case=cv2.CascadeClassifier('/content/haarcascade_frontalface_default.xml')\n",
        "face_rects=face_case.detectMultiScale(frame)\n",
        "face_x,face_y,w,h=tuple(face_rects[0])\n",
        "track_window=(face_x,face_y,w,h)\n",
        "roi=frame[face_y:face_y+h,face_x:face_x+w]\n",
        "hsv_roi=cv2.cvtColor(roi,cv2.COLOR_BGR2HSV)\n",
        "roi_hist=cv2.calcHist([hsv_roi],[0],None,[180],[0,180])\n",
        "cv2.normalize(roi_hist,roi_hist,0,255,cv2.NORM_MINMAX);\n",
        "term_crit=(cv2.TERM_CRITERIA_EPS | cv2.TERM_CRITERIA_COUNT,10,1)\n",
        "while(True):\n",
        "  ret,frame=cap.read()\n",
        "  if ret==True:\n",
        "    hsv=cv2.cvtColor(frame,cv2.COLOR_BGR2HSV)\n",
        "    dest_roi=cv2.calcBackProject([hsv],[0],roi_hist,[0,180],1)\n",
        "    ret,track_window=cv2.meanShift(dest_roi,track_window,term_crit)\n",
        "    x,y,w,h=track_window\n",
        "    img2=cv2.rectangle(frame,(x,y),(x+w,y+h),(255,255,0),3)\n",
        "    cv2.imshow('Face tracker',img2)\n",
        "    if cv2.waitKey(50) & 0xFF==27:\n",
        "      break\n",
        "  else:\n",
        "    break\n",
        "cap.release()\n",
        "cv2.destroyAllWindows()\n"
      ],
      "execution_count": null,
      "outputs": []
    }
  ]
}