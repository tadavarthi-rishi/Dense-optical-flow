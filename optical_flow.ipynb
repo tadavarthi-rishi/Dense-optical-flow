{
  "nbformat": 4,
  "nbformat_minor": 0,
  "metadata": {
    "colab": {
      "name": "optical-flow.ipynb",
      "provenance": [],
      "authorship_tag": "ABX9TyOVoDfa8f4bkpeszCV0N+wX",
      "include_colab_link": true
    },
    "kernelspec": {
      "name": "python3",
      "display_name": "Python 3"
    }
  },
  "cells": [
    {
      "cell_type": "markdown",
      "metadata": {
        "id": "view-in-github",
        "colab_type": "text"
      },
      "source": [
        "<a href=\"https://colab.research.google.com/github/tadavarthi-rishi/Dense-optical-flow/blob/master/optical_flow.ipynb\" target=\"_parent\"><img src=\"https://colab.research.google.com/assets/colab-badge.svg\" alt=\"Open In Colab\"/></a>"
      ]
    },
    {
      "cell_type": "code",
      "metadata": {
        "id": "j0W_IEHjAuL1",
        "colab_type": "code",
        "colab": {}
      },
      "source": [
        "import cv2\n",
        "import numpy as np\n",
        "from google.colab.patches import cv2_imshow\n",
        "st_params=dict(maxCorners=30,qualityLevel=0.2,minDistance=2,blockSize=7)\n",
        "lk_params=dict(maxLevel=2,criteria=(cv2.TERM_CRITERIA_EPS | cv2.TERM_CRITERIA_COUNT,10,1))\n",
        "cap=cv2.VideoCapture(0)\n",
        "color=(0,255,0)\n",
        "ret,first_frame=cap.read()\n",
        "prev_gray=cv2.cvtColor(first_frame,cv2.COLOR_BGR2GRAY)\n",
        "prev=cv2.goodFeaturesToTrack(prev_gray,**st_params,mask=None,gradientSize=31)\n",
        "mask=np.zeros_like(first_frame)\n",
        "while(cap.isOpened()):\n",
        "  ret,frame=cap.read()\n",
        "  gray=cv2.cvtColor(frame,cv2.COLOR_BGR2GRAY)\n",
        "  next,status,error=cv2.calcOpticalFlowPyrLK(prev_gray,gray,prev,None,**lk_params)\n",
        "  good_old=prev[status==1]\n",
        "  good_new=next[status==1]\n",
        "  for i,(new,old) in enumerate(zip(good_new,good_old)):\n",
        "    a,b=new.ravel()\n",
        "    c,d=old.ravel()\n",
        "    mask=cv2.line(mask,(a,b),(c,d),color,2)\n",
        "    frame=cv2.circle(frame,(a,b),3,color,-1)\n",
        "  output=cv2.add(frame,mask)\n",
        "  prev_gray=gray.copy()\n",
        "  prev=good_new.reshape(-1,1,2)\n",
        "  cv2.imshow(\"optical flow\",output)\n",
        "  if cv2.waitKey(300) & 0xFF==ord(\"q\"):\n",
        "    break\n",
        "cap.release()\n",
        "cv2.destroyAllWindows()"
      ],
      "execution_count": null,
      "outputs": []
    }
  ]
}