{
  "nbformat": 4,
  "nbformat_minor": 0,
  "metadata": {
    "colab": {
      "name": "dense-optical.ipynb",
      "provenance": [],
      "authorship_tag": "ABX9TyPQij0WGRZRPwu7aWc9erUJ",
      "include_colab_link": true
    },
    "kernelspec": {
      "name": "python3",
      "display_name": "Python 3"
    }
  },
  "cells": [
    {
      "cell_type": "markdown",
      "metadata": {
        "id": "view-in-github",
        "colab_type": "text"
      },
      "source": [
        "<a href=\"https://colab.research.google.com/github/tadavarthi-rishi/Dense-optical-flow/blob/master/dense_optical.ipynb\" target=\"_parent\"><img src=\"https://colab.research.google.com/assets/colab-badge.svg\" alt=\"Open In Colab\"/></a>"
      ]
    },
    {
      "cell_type": "code",
      "metadata": {
        "id": "d4SoR1FfRlgh",
        "colab_type": "code",
        "colab": {}
      },
      "source": [
        "import cv2\n",
        "import numpy as np\n",
        "from google.colab.patches import cv2_imshow\n",
        "cap=cv2.VideoCapture('/content/presidential_debate.mp4')\n",
        "ret,first_frame=cap.read()\n",
        "prev_gray=cv2.cvtColor(first_frame,cv2.COLOR_BGR2GRAY)\n",
        "mask=np.zeros_like(first_frame)\n",
        "mask[...,1]=255\n",
        "while(cap.isOpened()):\n",
        "    ret,frame=cap.read()\n",
        "    cv2_imshow(frame)\n",
        "    gray=cv2.cvtColor(frame,cv2.COLOR_BGR2GRAY)\n",
        "    flow=cv2.calcOpticalFlowFarneback(prev_gray,gray,None,0.5,3,15,3,5,1.2,0)\n",
        "    magn,angle=cv2.cartToPolar(flow[...,0],flow[...,1])\n",
        "    mask[...,0]=angle*180/np.pi/2\n",
        "    mask[...,2]=cv2.normalize(magn,None,0,255,cv2.NORM_MINMAX)\n",
        "    rgb=cv2.cvtColor(mask,cv2.COLOR_HSV2RGB)\n",
        "    cv2_imshow(rgb)\n",
        "    prev_gray=gray\n",
        "    if cv2.waitKey(30) & 0xFF == ord('q'):\n",
        "        break\n",
        "cap.release()\n",
        "cv2.destroyAllWindows()"
      ],
      "execution_count": null,
      "outputs": []
    }
  ]
}